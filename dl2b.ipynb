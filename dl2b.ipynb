{
 "cells": [
  {
   "cell_type": "code",
   "execution_count": 1,
   "id": "6b6c31f8",
   "metadata": {},
   "outputs": [],
   "source": [
    "from keras.datasets import imdb # Load the data, keeping only 10,000 of the most frequently occuring words\n",
    "(train_data, train_labels), (test_data, test_labels) = imdb.load_data(num_words = 10000)"
   ]
  },
  {
   "cell_type": "code",
   "execution_count": 2,
   "id": "2247a28f",
   "metadata": {},
   "outputs": [],
   "source": [
    "# word_index = imdb.get_word_index()\n",
    "# reverse_word_index = dict([(value, key) for (key, value) in word_index.items()])\n",
    "# decoded_review = ' '.join([reverse_word_index.get(i-3, '?') for i in train_data[0]])"
   ]
  },
  {
   "cell_type": "code",
   "execution_count": 3,
   "id": "039ef66b",
   "metadata": {},
   "outputs": [],
   "source": [
    "import numpy as np\n",
    "\n",
    "def vectorize_sequences(sequences, dimension=10000):\n",
    "    results = np.zeros((len(sequences), dimension))    # Creates an all zero matrix of shape (len(sequences),10K)\n",
    "    for i,sequence in enumerate(sequences):\n",
    "        results[i,sequence] = 1                        # Sets specific indices of results[i] to 1s\n",
    "    return results\n",
    "\n",
    "# Vectorize training Data\n",
    "X_train = vectorize_sequences(train_data)\n",
    "\n",
    "# Vectorize testing Data\n",
    "X_test = vectorize_sequences(test_data)"
   ]
  },
  {
   "cell_type": "code",
   "execution_count": 4,
   "id": "d3fd9db6",
   "metadata": {},
   "outputs": [],
   "source": [
    "class_names = ['negative','positive']"
   ]
  },
  {
   "cell_type": "code",
   "execution_count": 5,
   "id": "8f8da7e0",
   "metadata": {},
   "outputs": [],
   "source": [
    "y_train = np.asarray(train_labels).astype('float32')\n",
    "y_test  = np.asarray(test_labels).astype('float32')"
   ]
  },
  {
   "cell_type": "code",
   "execution_count": 6,
   "id": "86900344",
   "metadata": {},
   "outputs": [
    {
     "data": {
      "text/plain": [
       "array([0., 1., 1., ..., 0., 0., 0.], dtype=float32)"
      ]
     },
     "execution_count": 6,
     "metadata": {},
     "output_type": "execute_result"
    }
   ],
   "source": [
    "y_test"
   ]
  },
  {
   "cell_type": "code",
   "execution_count": 7,
   "id": "16bd8da9",
   "metadata": {},
   "outputs": [],
   "source": [
    "from keras import models \n",
    "from keras import layers \n",
    "model = models.Sequential() \n",
    "model.add(layers.Dense(16, activation='relu', input_shape=(10000,)))\n",
    "model.add(layers.Dense(16, activation='relu')) \n",
    "model.add(layers.Dense(1, activation='sigmoid'))"
   ]
  },
  {
   "cell_type": "code",
   "execution_count": 8,
   "id": "3c30654c",
   "metadata": {},
   "outputs": [],
   "source": [
    "from keras import optimizers\n",
    "from keras import losses \n",
    "from keras import metrics \n",
    "model.compile(optimizer=optimizers.RMSprop(learning_rate=0.001), loss = losses.binary_crossentropy, metrics = [metrics.binary_accuracy])"
   ]
  },
  {
   "cell_type": "code",
   "execution_count": 9,
   "id": "6de2f1aa",
   "metadata": {},
   "outputs": [],
   "source": [
    "X_val = X_train[:10000]\n",
    "partial_X_train = X_train[10000:] # Labels for validation \n",
    "y_val = y_train[:10000] \n",
    "partial_y_train = y_train[10000:]"
   ]
  },
  {
   "cell_type": "code",
   "execution_count": 10,
   "id": "da203b00",
   "metadata": {},
   "outputs": [
    {
     "name": "stdout",
     "output_type": "stream",
     "text": [
      "Epoch 1/10\n",
      "30/30 [==============================] - 5s 51ms/step - loss: 0.4921 - binary_accuracy: 0.7840 - val_loss: 0.3693 - val_binary_accuracy: 0.8637\n",
      "Epoch 2/10\n",
      "30/30 [==============================] - 1s 26ms/step - loss: 0.2839 - binary_accuracy: 0.9082 - val_loss: 0.2968 - val_binary_accuracy: 0.8846\n",
      "Epoch 3/10\n",
      "30/30 [==============================] - 1s 27ms/step - loss: 0.2120 - binary_accuracy: 0.9301 - val_loss: 0.2992 - val_binary_accuracy: 0.8808\n",
      "Epoch 4/10\n",
      "30/30 [==============================] - 1s 27ms/step - loss: 0.1685 - binary_accuracy: 0.9441 - val_loss: 0.2767 - val_binary_accuracy: 0.8883\n",
      "Epoch 5/10\n",
      "30/30 [==============================] - 1s 25ms/step - loss: 0.1358 - binary_accuracy: 0.9573 - val_loss: 0.2863 - val_binary_accuracy: 0.8848\n",
      "Epoch 6/10\n",
      "30/30 [==============================] - 1s 25ms/step - loss: 0.1105 - binary_accuracy: 0.9679 - val_loss: 0.2992 - val_binary_accuracy: 0.8838\n",
      "Epoch 7/10\n",
      "30/30 [==============================] - 1s 23ms/step - loss: 0.0908 - binary_accuracy: 0.9756 - val_loss: 0.3178 - val_binary_accuracy: 0.8818\n",
      "Epoch 8/10\n",
      "30/30 [==============================] - 1s 24ms/step - loss: 0.0718 - binary_accuracy: 0.9811 - val_loss: 0.3703 - val_binary_accuracy: 0.8713\n",
      "Epoch 9/10\n",
      "30/30 [==============================] - 1s 23ms/step - loss: 0.0623 - binary_accuracy: 0.9841 - val_loss: 0.3605 - val_binary_accuracy: 0.8802\n",
      "Epoch 10/10\n",
      "30/30 [==============================] - 1s 23ms/step - loss: 0.0464 - binary_accuracy: 0.9897 - val_loss: 0.3954 - val_binary_accuracy: 0.8747\n"
     ]
    }
   ],
   "source": [
    "history = model.fit(partial_X_train, partial_y_train, epochs=10, batch_size=512, validation_data=(X_val, y_val))"
   ]
  },
  {
   "cell_type": "code",
   "execution_count": 11,
   "id": "e2906fa9",
   "metadata": {},
   "outputs": [
    {
     "name": "stdout",
     "output_type": "stream",
     "text": [
      "[0. 1. 1. ... 0. 0. 0.]\n"
     ]
    }
   ],
   "source": [
    "print(X_test[19])"
   ]
  },
  {
   "cell_type": "code",
   "execution_count": 12,
   "id": "aa1446b4",
   "metadata": {},
   "outputs": [
    {
     "name": "stdout",
     "output_type": "stream",
     "text": [
      "1/1 [==============================] - 0s 142ms/step\n",
      "[[0.00742383]] negative\n"
     ]
    }
   ],
   "source": [
    "# Making Predictions for testing data np.set_printoptions(suppress=True) \n",
    "import numpy as np\n",
    "\n",
    "result = model.predict(np.expand_dims(X_test[19],axis=0))\n",
    "print(result,class_names[int(result[0]>0.5)])"
   ]
  },
  {
   "cell_type": "code",
   "execution_count": null,
   "id": "1a7ba15b",
   "metadata": {},
   "outputs": [],
   "source": []
  }
 ],
 "metadata": {
  "kernelspec": {
   "display_name": "Python 3 (ipykernel)",
   "language": "python",
   "name": "python3"
  },
  "language_info": {
   "codemirror_mode": {
    "name": "ipython",
    "version": 3
   },
   "file_extension": ".py",
   "mimetype": "text/x-python",
   "name": "python",
   "nbconvert_exporter": "python",
   "pygments_lexer": "ipython3",
   "version": "3.9.13"
  }
 },
 "nbformat": 4,
 "nbformat_minor": 5
}
