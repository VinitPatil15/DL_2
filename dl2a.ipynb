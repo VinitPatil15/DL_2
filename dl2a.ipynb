{
 "cells": [
  {
   "cell_type": "code",
   "execution_count": 2,
   "id": "0b8dfe5d",
   "metadata": {},
   "outputs": [],
   "source": [
    "import pandas as pd\n",
    "import numpy as np\n",
    "import seaborn as sns\n",
    "import matplotlib.pyplot as plt\n",
    "from tensorflow.keras.models import Sequential\n",
    "from tensorflow.keras.layers import Dense, Conv2D, Flatten\n",
    "from sklearn.preprocessing import LabelEncoder\n",
    "from sklearn.model_selection import train_test_split"
   ]
  },
  {
   "cell_type": "code",
   "execution_count": 5,
   "id": "083a1ec0",
   "metadata": {},
   "outputs": [],
   "source": [
    "datapath = r\"C:\\Users\\vinit\\Downloads\\letter+recognition\\letter-recognition.data\"\n",
    "columns = ['letter'] + [f'feature_{i}' for i in range(16)]\n",
    "df = pd.read_csv(datapath, names = columns)"
   ]
  },
  {
   "cell_type": "code",
   "execution_count": 7,
   "id": "f8a412f8",
   "metadata": {},
   "outputs": [],
   "source": [
    "labelencoder = LabelEncoder()\n",
    "df['target'] =labelencoder.fit_transform(df['letter'])\n",
    "x = df.drop(['letter', 'target'], axis=1)\n",
    "y = df['target']\n",
    "\n",
    "x_train, x_test, y_train, y_test = train_test_split(x, y, test_size=0.2)"
   ]
  },
  {
   "cell_type": "code",
   "execution_count": 8,
   "id": "494e7a17",
   "metadata": {},
   "outputs": [
    {
     "name": "stdout",
     "output_type": "stream",
     "text": [
      "Model: \"sequential\"\n",
      "_________________________________________________________________\n",
      " Layer (type)                Output Shape              Param #   \n",
      "=================================================================\n",
      " dense (Dense)               (None, 128)               2176      \n",
      "                                                                 \n",
      " dense_1 (Dense)             (None, 64)                8256      \n",
      "                                                                 \n",
      " dense_2 (Dense)             (None, 26)                1690      \n",
      "                                                                 \n",
      "=================================================================\n",
      "Total params: 12,122\n",
      "Trainable params: 12,122\n",
      "Non-trainable params: 0\n",
      "_________________________________________________________________\n"
     ]
    }
   ],
   "source": [
    "model = Sequential()\n",
    "model.add(Dense(128, activation = 'relu', input_shape = (16,)))\n",
    "model.add(Dense(64, activation = 'relu'))\n",
    "model.add(Dense(26, activation = 'softmax'))\n",
    "\n",
    "model.compile(optimizer = 'adam', loss='sparse_categorical_crossentropy', metrics='accuracy')\n",
    "model.summary()"
   ]
  },
  {
   "cell_type": "code",
   "execution_count": 9,
   "id": "8f17001e",
   "metadata": {},
   "outputs": [
    {
     "name": "stdout",
     "output_type": "stream",
     "text": [
      "Epoch 1/10\n",
      "500/500 [==============================] - 3s 3ms/step - loss: 1.6742 - accuracy: 0.5425 - val_loss: 1.0935 - val_accuracy: 0.6858\n",
      "Epoch 2/10\n",
      "500/500 [==============================] - 1s 3ms/step - loss: 0.9095 - accuracy: 0.7427 - val_loss: 0.8366 - val_accuracy: 0.7585\n",
      "Epoch 3/10\n",
      "500/500 [==============================] - 2s 3ms/step - loss: 0.7522 - accuracy: 0.7801 - val_loss: 0.7374 - val_accuracy: 0.7915\n",
      "Epoch 4/10\n",
      "500/500 [==============================] - 1s 3ms/step - loss: 0.6466 - accuracy: 0.8101 - val_loss: 0.6505 - val_accuracy: 0.8037\n",
      "Epoch 5/10\n",
      "500/500 [==============================] - 2s 3ms/step - loss: 0.5673 - accuracy: 0.8294 - val_loss: 0.5795 - val_accuracy: 0.8310\n",
      "Epoch 6/10\n",
      "500/500 [==============================] - 1s 3ms/step - loss: 0.5097 - accuracy: 0.8452 - val_loss: 0.5383 - val_accuracy: 0.8430\n",
      "Epoch 7/10\n",
      "500/500 [==============================] - 1s 3ms/step - loss: 0.4606 - accuracy: 0.8612 - val_loss: 0.4995 - val_accuracy: 0.8558\n",
      "Epoch 8/10\n",
      "500/500 [==============================] - 1s 3ms/step - loss: 0.4179 - accuracy: 0.8742 - val_loss: 0.5221 - val_accuracy: 0.8363\n",
      "Epoch 9/10\n",
      "500/500 [==============================] - 1s 3ms/step - loss: 0.3891 - accuracy: 0.8809 - val_loss: 0.4308 - val_accuracy: 0.8720\n",
      "Epoch 10/10\n",
      "500/500 [==============================] - 1s 3ms/step - loss: 0.3533 - accuracy: 0.8928 - val_loss: 0.4125 - val_accuracy: 0.8810\n"
     ]
    },
    {
     "data": {
      "text/plain": [
       "<keras.callbacks.History at 0x22f1fd6f6a0>"
      ]
     },
     "execution_count": 9,
     "metadata": {},
     "output_type": "execute_result"
    }
   ],
   "source": [
    "model.fit(x_train, y_train, epochs = 10, batch_size=32, validation_data = (x_test, y_test))"
   ]
  },
  {
   "cell_type": "code",
   "execution_count": 10,
   "id": "5bbf4f46",
   "metadata": {},
   "outputs": [
    {
     "name": "stdout",
     "output_type": "stream",
     "text": [
      "125/125 [==============================] - 0s 2ms/step - loss: 0.4125 - accuracy: 0.8810\n",
      "0.41251853108406067\n",
      "0.8809999823570251\n"
     ]
    }
   ],
   "source": [
    "test_loss, test_accuracy = model.evaluate(x_test, y_test)\n",
    "print(test_loss)\n",
    "print(test_accuracy)"
   ]
  },
  {
   "cell_type": "code",
   "execution_count": 13,
   "id": "c560fd09",
   "metadata": {},
   "outputs": [
    {
     "name": "stdout",
     "output_type": "stream",
     "text": [
      "       feature_0  feature_1  feature_2  feature_3  feature_4  feature_5  \\\n",
      "5874           5          7          6          6          6          8   \n",
      "13313          3          6          6          4          7          6   \n",
      "11046          4          8          4          6          4          5   \n",
      "4556           1          0          1          1          0          7   \n",
      "4920           5          7          6          5          4          6   \n",
      "...          ...        ...        ...        ...        ...        ...   \n",
      "2808           4          7          4          5          3          7   \n",
      "13491          5         11          7          8          7          8   \n",
      "13073          4          9          5          6          3          9   \n",
      "3511           6          9          6          4          3          8   \n",
      "19844          3          8          4          6          2         10   \n",
      "\n",
      "       feature_6  feature_7  feature_8  feature_9  feature_10  feature_11  \\\n",
      "5874           9          4          4          7           4           7   \n",
      "13313          5          3          1          6           5           8   \n",
      "11046         10          7          3          7           4           9   \n",
      "4556           7          5          7          7           6          13   \n",
      "4920           6          7          7          5           6          10   \n",
      "...          ...        ...        ...        ...         ...         ...   \n",
      "2808           7         12          0          7           7           7   \n",
      "13491          7          5          4          7           7           8   \n",
      "13073          7          9          8          7           5          10   \n",
      "3511           7          2          8          9           6           8   \n",
      "19844          6          1          6         13           3           7   \n",
      "\n",
      "       feature_12  feature_13  feature_14  feature_15  \n",
      "5874            6           8           5           5  \n",
      "13313           7           7           2           8  \n",
      "11046           2           7           5          11  \n",
      "4556            0           8           4          10  \n",
      "4920            2           8           4          10  \n",
      "...           ...         ...         ...         ...  \n",
      "2808            3           8           0           8  \n",
      "13491           6           8           8           3  \n",
      "13073           3           8           4           8  \n",
      "3511            4           9           4           8  \n",
      "19844           0           7           0           8  \n",
      "\n",
      "[4000 rows x 16 columns]\n"
     ]
    }
   ],
   "source": [
    "print(x_test)"
   ]
  },
  {
   "cell_type": "code",
   "execution_count": 14,
   "id": "05219940",
   "metadata": {},
   "outputs": [
    {
     "data": {
      "text/plain": [
       "5874     13\n",
       "13313    12\n",
       "11046    17\n",
       "4556      2\n",
       "4920     11\n",
       "         ..\n",
       "2808      7\n",
       "13491    24\n",
       "13073    14\n",
       "3511     23\n",
       "19844     9\n",
       "Name: target, Length: 4000, dtype: int32"
      ]
     },
     "execution_count": 14,
     "metadata": {},
     "output_type": "execute_result"
    }
   ],
   "source": [
    "y_test"
   ]
  },
  {
   "cell_type": "code",
   "execution_count": 17,
   "id": "eb35af27",
   "metadata": {},
   "outputs": [
    {
     "name": "stdout",
     "output_type": "stream",
     "text": [
      "1/1 [==============================] - 0s 291ms/step\n",
      "[[2.8115846e-03 2.8892765e-03 5.1221828e-06 5.4335678e-03 2.8687666e-04\n",
      "  4.3340246e-03 2.3139443e-03 2.6940653e-02 6.7132700e-05 4.4704432e-04\n",
      "  8.7413582e-04 1.1007682e-05 1.3115121e-02 6.4747286e-01 1.1340372e-02\n",
      "  9.0511638e-04 9.9336314e-05 2.7326870e-01 1.6097756e-04 9.5216725e-05\n",
      "  1.5210897e-03 3.5179730e-03 1.9310198e-03 6.0336428e-05 6.8599562e-05\n",
      "  2.8945453e-05]]\n"
     ]
    }
   ],
   "source": [
    "new_data = np.array([5,7,6,6,6,8,9,4,4,7,4,7,6,8,5,5]).reshape(1,-1)\n",
    "prediction = model.predict(new_data)\n",
    "print(prediction)"
   ]
  },
  {
   "cell_type": "code",
   "execution_count": 18,
   "id": "91f3a1e7",
   "metadata": {},
   "outputs": [
    {
     "data": {
      "text/plain": [
       "13"
      ]
     },
     "execution_count": 18,
     "metadata": {},
     "output_type": "execute_result"
    }
   ],
   "source": [
    "predicted_label = np.argmax(prediction)\n",
    "predicted_label"
   ]
  },
  {
   "cell_type": "code",
   "execution_count": null,
   "id": "9bd4f431",
   "metadata": {},
   "outputs": [],
   "source": []
  }
 ],
 "metadata": {
  "kernelspec": {
   "display_name": "Python 3 (ipykernel)",
   "language": "python",
   "name": "python3"
  },
  "language_info": {
   "codemirror_mode": {
    "name": "ipython",
    "version": 3
   },
   "file_extension": ".py",
   "mimetype": "text/x-python",
   "name": "python",
   "nbconvert_exporter": "python",
   "pygments_lexer": "ipython3",
   "version": "3.9.13"
  }
 },
 "nbformat": 4,
 "nbformat_minor": 5
}
