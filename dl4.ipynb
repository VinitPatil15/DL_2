{
 "cells": [
  {
   "cell_type": "code",
   "execution_count": 1,
   "id": "4dbd50c8",
   "metadata": {},
   "outputs": [],
   "source": [
    "import pandas as pd\n",
    "import numpy as np\n",
    "import matplotlib.pyplot as plt"
   ]
  },
  {
   "cell_type": "code",
   "execution_count": 3,
   "id": "d4e36631",
   "metadata": {},
   "outputs": [
    {
     "data": {
      "text/html": [
       "<div>\n",
       "<style scoped>\n",
       "    .dataframe tbody tr th:only-of-type {\n",
       "        vertical-align: middle;\n",
       "    }\n",
       "\n",
       "    .dataframe tbody tr th {\n",
       "        vertical-align: top;\n",
       "    }\n",
       "\n",
       "    .dataframe thead th {\n",
       "        text-align: right;\n",
       "    }\n",
       "</style>\n",
       "<table border=\"1\" class=\"dataframe\">\n",
       "  <thead>\n",
       "    <tr style=\"text-align: right;\">\n",
       "      <th></th>\n",
       "      <th>Date</th>\n",
       "      <th>Open</th>\n",
       "      <th>High</th>\n",
       "      <th>Low</th>\n",
       "      <th>Close</th>\n",
       "      <th>Adj Close</th>\n",
       "      <th>Volume</th>\n",
       "    </tr>\n",
       "  </thead>\n",
       "  <tbody>\n",
       "    <tr>\n",
       "      <th>0</th>\n",
       "      <td>2010-01-04</td>\n",
       "      <td>15.689439</td>\n",
       "      <td>15.753504</td>\n",
       "      <td>15.621622</td>\n",
       "      <td>15.684434</td>\n",
       "      <td>15.684434</td>\n",
       "      <td>78169752</td>\n",
       "    </tr>\n",
       "    <tr>\n",
       "      <th>1</th>\n",
       "      <td>2010-01-05</td>\n",
       "      <td>15.695195</td>\n",
       "      <td>15.711712</td>\n",
       "      <td>15.554054</td>\n",
       "      <td>15.615365</td>\n",
       "      <td>15.615365</td>\n",
       "      <td>120067812</td>\n",
       "    </tr>\n",
       "    <tr>\n",
       "      <th>2</th>\n",
       "      <td>2010-01-06</td>\n",
       "      <td>15.662162</td>\n",
       "      <td>15.662162</td>\n",
       "      <td>15.174174</td>\n",
       "      <td>15.221722</td>\n",
       "      <td>15.221722</td>\n",
       "      <td>158988852</td>\n",
       "    </tr>\n",
       "    <tr>\n",
       "      <th>3</th>\n",
       "      <td>2010-01-07</td>\n",
       "      <td>15.250250</td>\n",
       "      <td>15.265265</td>\n",
       "      <td>14.831081</td>\n",
       "      <td>14.867367</td>\n",
       "      <td>14.867367</td>\n",
       "      <td>256315428</td>\n",
       "    </tr>\n",
       "    <tr>\n",
       "      <th>4</th>\n",
       "      <td>2010-01-08</td>\n",
       "      <td>14.814815</td>\n",
       "      <td>15.096346</td>\n",
       "      <td>14.742492</td>\n",
       "      <td>15.065566</td>\n",
       "      <td>15.065566</td>\n",
       "      <td>188783028</td>\n",
       "    </tr>\n",
       "    <tr>\n",
       "      <th>...</th>\n",
       "      <td>...</td>\n",
       "      <td>...</td>\n",
       "      <td>...</td>\n",
       "      <td>...</td>\n",
       "      <td>...</td>\n",
       "      <td>...</td>\n",
       "      <td>...</td>\n",
       "    </tr>\n",
       "    <tr>\n",
       "      <th>3267</th>\n",
       "      <td>2022-12-23</td>\n",
       "      <td>87.110001</td>\n",
       "      <td>89.550003</td>\n",
       "      <td>87.070000</td>\n",
       "      <td>89.230003</td>\n",
       "      <td>89.230003</td>\n",
       "      <td>23003000</td>\n",
       "    </tr>\n",
       "    <tr>\n",
       "      <th>3268</th>\n",
       "      <td>2022-12-27</td>\n",
       "      <td>88.800003</td>\n",
       "      <td>88.940002</td>\n",
       "      <td>87.010002</td>\n",
       "      <td>87.389999</td>\n",
       "      <td>87.389999</td>\n",
       "      <td>20097300</td>\n",
       "    </tr>\n",
       "    <tr>\n",
       "      <th>3269</th>\n",
       "      <td>2022-12-28</td>\n",
       "      <td>86.980003</td>\n",
       "      <td>88.040001</td>\n",
       "      <td>85.940002</td>\n",
       "      <td>86.019997</td>\n",
       "      <td>86.019997</td>\n",
       "      <td>19523200</td>\n",
       "    </tr>\n",
       "    <tr>\n",
       "      <th>3270</th>\n",
       "      <td>2022-12-29</td>\n",
       "      <td>86.620003</td>\n",
       "      <td>88.849998</td>\n",
       "      <td>86.610001</td>\n",
       "      <td>88.449997</td>\n",
       "      <td>88.449997</td>\n",
       "      <td>23333500</td>\n",
       "    </tr>\n",
       "    <tr>\n",
       "      <th>3271</th>\n",
       "      <td>2022-12-30</td>\n",
       "      <td>86.980003</td>\n",
       "      <td>88.300003</td>\n",
       "      <td>86.570000</td>\n",
       "      <td>88.230003</td>\n",
       "      <td>88.230003</td>\n",
       "      <td>23986300</td>\n",
       "    </tr>\n",
       "  </tbody>\n",
       "</table>\n",
       "<p>3272 rows × 7 columns</p>\n",
       "</div>"
      ],
      "text/plain": [
       "            Date       Open       High        Low      Close  Adj Close  \\\n",
       "0     2010-01-04  15.689439  15.753504  15.621622  15.684434  15.684434   \n",
       "1     2010-01-05  15.695195  15.711712  15.554054  15.615365  15.615365   \n",
       "2     2010-01-06  15.662162  15.662162  15.174174  15.221722  15.221722   \n",
       "3     2010-01-07  15.250250  15.265265  14.831081  14.867367  14.867367   \n",
       "4     2010-01-08  14.814815  15.096346  14.742492  15.065566  15.065566   \n",
       "...          ...        ...        ...        ...        ...        ...   \n",
       "3267  2022-12-23  87.110001  89.550003  87.070000  89.230003  89.230003   \n",
       "3268  2022-12-27  88.800003  88.940002  87.010002  87.389999  87.389999   \n",
       "3269  2022-12-28  86.980003  88.040001  85.940002  86.019997  86.019997   \n",
       "3270  2022-12-29  86.620003  88.849998  86.610001  88.449997  88.449997   \n",
       "3271  2022-12-30  86.980003  88.300003  86.570000  88.230003  88.230003   \n",
       "\n",
       "         Volume  \n",
       "0      78169752  \n",
       "1     120067812  \n",
       "2     158988852  \n",
       "3     256315428  \n",
       "4     188783028  \n",
       "...         ...  \n",
       "3267   23003000  \n",
       "3268   20097300  \n",
       "3269   19523200  \n",
       "3270   23333500  \n",
       "3271   23986300  \n",
       "\n",
       "[3272 rows x 7 columns]"
      ]
     },
     "execution_count": 3,
     "metadata": {},
     "output_type": "execute_result"
    }
   ],
   "source": [
    "df_train = pd.read_csv(r\"C:\\Users\\vinit\\Downloads\\googlestockdataset\\Google_Stock_Train (2010-2022).csv\")\n",
    "df_train"
   ]
  },
  {
   "cell_type": "code",
   "execution_count": 4,
   "id": "94b5f758",
   "metadata": {},
   "outputs": [
    {
     "data": {
      "text/html": [
       "<div>\n",
       "<style scoped>\n",
       "    .dataframe tbody tr th:only-of-type {\n",
       "        vertical-align: middle;\n",
       "    }\n",
       "\n",
       "    .dataframe tbody tr th {\n",
       "        vertical-align: top;\n",
       "    }\n",
       "\n",
       "    .dataframe thead th {\n",
       "        text-align: right;\n",
       "    }\n",
       "</style>\n",
       "<table border=\"1\" class=\"dataframe\">\n",
       "  <thead>\n",
       "    <tr style=\"text-align: right;\">\n",
       "      <th></th>\n",
       "      <th>Date</th>\n",
       "      <th>Open</th>\n",
       "      <th>High</th>\n",
       "      <th>Low</th>\n",
       "      <th>Close</th>\n",
       "      <th>Adj Close</th>\n",
       "      <th>Volume</th>\n",
       "    </tr>\n",
       "  </thead>\n",
       "  <tbody>\n",
       "    <tr>\n",
       "      <th>0</th>\n",
       "      <td>2023-01-03</td>\n",
       "      <td>89.589996</td>\n",
       "      <td>91.050003</td>\n",
       "      <td>88.519997</td>\n",
       "      <td>89.120003</td>\n",
       "      <td>89.120003</td>\n",
       "      <td>28131200</td>\n",
       "    </tr>\n",
       "    <tr>\n",
       "      <th>1</th>\n",
       "      <td>2023-01-04</td>\n",
       "      <td>90.349998</td>\n",
       "      <td>90.650002</td>\n",
       "      <td>87.269997</td>\n",
       "      <td>88.080002</td>\n",
       "      <td>88.080002</td>\n",
       "      <td>34854800</td>\n",
       "    </tr>\n",
       "    <tr>\n",
       "      <th>2</th>\n",
       "      <td>2023-01-05</td>\n",
       "      <td>87.470001</td>\n",
       "      <td>87.570000</td>\n",
       "      <td>85.900002</td>\n",
       "      <td>86.199997</td>\n",
       "      <td>86.199997</td>\n",
       "      <td>27194400</td>\n",
       "    </tr>\n",
       "    <tr>\n",
       "      <th>3</th>\n",
       "      <td>2023-01-06</td>\n",
       "      <td>86.790001</td>\n",
       "      <td>87.690002</td>\n",
       "      <td>84.860001</td>\n",
       "      <td>87.339996</td>\n",
       "      <td>87.339996</td>\n",
       "      <td>41381500</td>\n",
       "    </tr>\n",
       "    <tr>\n",
       "      <th>4</th>\n",
       "      <td>2023-01-09</td>\n",
       "      <td>88.360001</td>\n",
       "      <td>90.050003</td>\n",
       "      <td>87.860001</td>\n",
       "      <td>88.019997</td>\n",
       "      <td>88.019997</td>\n",
       "      <td>29003900</td>\n",
       "    </tr>\n",
       "    <tr>\n",
       "      <th>...</th>\n",
       "      <td>...</td>\n",
       "      <td>...</td>\n",
       "      <td>...</td>\n",
       "      <td>...</td>\n",
       "      <td>...</td>\n",
       "      <td>...</td>\n",
       "      <td>...</td>\n",
       "    </tr>\n",
       "    <tr>\n",
       "      <th>138</th>\n",
       "      <td>2023-07-24</td>\n",
       "      <td>121.660004</td>\n",
       "      <td>123.000000</td>\n",
       "      <td>120.980003</td>\n",
       "      <td>121.529999</td>\n",
       "      <td>121.529999</td>\n",
       "      <td>29686100</td>\n",
       "    </tr>\n",
       "    <tr>\n",
       "      <th>139</th>\n",
       "      <td>2023-07-25</td>\n",
       "      <td>121.360001</td>\n",
       "      <td>123.150002</td>\n",
       "      <td>121.019997</td>\n",
       "      <td>122.209999</td>\n",
       "      <td>122.209999</td>\n",
       "      <td>52509600</td>\n",
       "    </tr>\n",
       "    <tr>\n",
       "      <th>140</th>\n",
       "      <td>2023-07-26</td>\n",
       "      <td>130.070007</td>\n",
       "      <td>130.979996</td>\n",
       "      <td>128.320007</td>\n",
       "      <td>129.270004</td>\n",
       "      <td>129.270004</td>\n",
       "      <td>61682100</td>\n",
       "    </tr>\n",
       "    <tr>\n",
       "      <th>141</th>\n",
       "      <td>2023-07-27</td>\n",
       "      <td>131.669998</td>\n",
       "      <td>133.240005</td>\n",
       "      <td>128.789993</td>\n",
       "      <td>129.399994</td>\n",
       "      <td>129.399994</td>\n",
       "      <td>44952100</td>\n",
       "    </tr>\n",
       "    <tr>\n",
       "      <th>142</th>\n",
       "      <td>2023-07-28</td>\n",
       "      <td>130.779999</td>\n",
       "      <td>133.740005</td>\n",
       "      <td>130.570007</td>\n",
       "      <td>132.580002</td>\n",
       "      <td>132.580002</td>\n",
       "      <td>36572900</td>\n",
       "    </tr>\n",
       "  </tbody>\n",
       "</table>\n",
       "<p>143 rows × 7 columns</p>\n",
       "</div>"
      ],
      "text/plain": [
       "           Date        Open        High         Low       Close   Adj Close  \\\n",
       "0    2023-01-03   89.589996   91.050003   88.519997   89.120003   89.120003   \n",
       "1    2023-01-04   90.349998   90.650002   87.269997   88.080002   88.080002   \n",
       "2    2023-01-05   87.470001   87.570000   85.900002   86.199997   86.199997   \n",
       "3    2023-01-06   86.790001   87.690002   84.860001   87.339996   87.339996   \n",
       "4    2023-01-09   88.360001   90.050003   87.860001   88.019997   88.019997   \n",
       "..          ...         ...         ...         ...         ...         ...   \n",
       "138  2023-07-24  121.660004  123.000000  120.980003  121.529999  121.529999   \n",
       "139  2023-07-25  121.360001  123.150002  121.019997  122.209999  122.209999   \n",
       "140  2023-07-26  130.070007  130.979996  128.320007  129.270004  129.270004   \n",
       "141  2023-07-27  131.669998  133.240005  128.789993  129.399994  129.399994   \n",
       "142  2023-07-28  130.779999  133.740005  130.570007  132.580002  132.580002   \n",
       "\n",
       "       Volume  \n",
       "0    28131200  \n",
       "1    34854800  \n",
       "2    27194400  \n",
       "3    41381500  \n",
       "4    29003900  \n",
       "..        ...  \n",
       "138  29686100  \n",
       "139  52509600  \n",
       "140  61682100  \n",
       "141  44952100  \n",
       "142  36572900  \n",
       "\n",
       "[143 rows x 7 columns]"
      ]
     },
     "execution_count": 4,
     "metadata": {},
     "output_type": "execute_result"
    }
   ],
   "source": [
    "df_test = pd.read_csv(r\"C:\\Users\\vinit\\Downloads\\googlestockdataset\\Google_Stock_Test (2023).csv\")\n",
    "df_test"
   ]
  },
  {
   "cell_type": "code",
   "execution_count": 7,
   "id": "46e4b943",
   "metadata": {},
   "outputs": [
    {
     "data": {
      "text/plain": [
       "(3272, 1)"
      ]
     },
     "execution_count": 7,
     "metadata": {},
     "output_type": "execute_result"
    }
   ],
   "source": [
    "train = df_train.loc[:,['Open']].values\n",
    "train.shape"
   ]
  },
  {
   "cell_type": "code",
   "execution_count": 10,
   "id": "d41167cb",
   "metadata": {},
   "outputs": [],
   "source": [
    "from sklearn.preprocessing import MinMaxScaler\n",
    "mms = MinMaxScaler()"
   ]
  },
  {
   "cell_type": "code",
   "execution_count": 11,
   "id": "aa540a3a",
   "metadata": {},
   "outputs": [],
   "source": [
    "train_scaled = mms.fit_transform(train)"
   ]
  },
  {
   "cell_type": "code",
   "execution_count": 12,
   "id": "ad88dfc3",
   "metadata": {},
   "outputs": [
    {
     "data": {
      "image/png": "[encoded data removed]",
      "text/plain": [
       "<Figure size 640x480 with 1 Axes>"
      ]
     },
     "metadata": {},
     "output_type": "display_data"
    }
   ],
   "source": [
    "plt.plot(train_scaled)\n",
    "plt.xlabel('time')\n",
    "plt.ylabel('standardized values')\n",
    "plt.show()"
   ]
  },
  {
   "cell_type": "code",
   "execution_count": 14,
   "id": "fb36eb43",
   "metadata": {},
   "outputs": [],
   "source": [
    "x_train = []\n",
    "y_train = []\n",
    "time = 60\n",
    "for i in range(60, train_scaled.shape[0]):\n",
    "    x_train.append(train_scaled[i-60:i, 0])\n",
    "    y_train.append(train_scaled[i, 0])\n",
    "x_train = np.array(x_train)\n",
    "y_train = np.array(y_train)"
   ]
  },
  {
   "cell_type": "code",
   "execution_count": 15,
   "id": "41e3a5c1",
   "metadata": {},
   "outputs": [
    {
     "data": {
      "text/plain": [
       "(3212, 60)"
      ]
     },
     "execution_count": 15,
     "metadata": {},
     "output_type": "execute_result"
    }
   ],
   "source": [
    "x_train.shape"
   ]
  },
  {
   "cell_type": "code",
   "execution_count": 16,
   "id": "7fd3ce44",
   "metadata": {},
   "outputs": [
    {
     "data": {
      "text/plain": [
       "(3212,)"
      ]
     },
     "execution_count": 16,
     "metadata": {},
     "output_type": "execute_result"
    }
   ],
   "source": [
    "y_train.shape"
   ]
  },
  {
   "cell_type": "code",
   "execution_count": 19,
   "id": "f9be1157",
   "metadata": {},
   "outputs": [
    {
     "data": {
      "text/plain": [
       "(3212, 60, 1)"
      ]
     },
     "execution_count": 19,
     "metadata": {},
     "output_type": "execute_result"
    }
   ],
   "source": [
    "x_train = np.reshape(x_train, newshape = (x_train.shape[0], x_train.shape[1], 1))\n",
    "x_train.shape"
   ]
  },
  {
   "cell_type": "code",
   "execution_count": 21,
   "id": "dc3e0284",
   "metadata": {},
   "outputs": [
    {
     "name": "stdout",
     "output_type": "stream",
     "text": [
      "Model: \"sequential_1\"\n",
      "_________________________________________________________________\n",
      " Layer (type)                Output Shape              Param #   \n",
      "=================================================================\n",
      " simple_rnn (SimpleRNN)      (None, 60, 50)            2600      \n",
      "                                                                 \n",
      " dropout (Dropout)           (None, 60, 50)            0         \n",
      "                                                                 \n",
      " simple_rnn_1 (SimpleRNN)    (None, 60, 50)            5050      \n",
      "                                                                 \n",
      " dropout_1 (Dropout)         (None, 60, 50)            0         \n",
      "                                                                 \n",
      " simple_rnn_2 (SimpleRNN)    (None, 60, 50)            5050      \n",
      "                                                                 \n",
      " dropout_2 (Dropout)         (None, 60, 50)            0         \n",
      "                                                                 \n",
      " simple_rnn_3 (SimpleRNN)    (None, 50)                5050      \n",
      "                                                                 \n",
      " dropout_3 (Dropout)         (None, 50)                0         \n",
      "                                                                 \n",
      " dense (Dense)               (None, 1)                 51        \n",
      "                                                                 \n",
      "=================================================================\n",
      "Total params: 17,801\n",
      "Trainable params: 17,801\n",
      "Non-trainable params: 0\n",
      "_________________________________________________________________\n"
     ]
    }
   ],
   "source": [
    "from tensorflow.keras.models import Sequential\n",
    "from tensorflow.keras.layers import Dense, SimpleRNN, Dropout\n",
    "\n",
    "model = Sequential()\n",
    "model.add(SimpleRNN(units = 50, return_sequences = True, activation = 'tanh', input_shape = (x_train.shape[1], 1)))\n",
    "model.add(Dropout(0.2))\n",
    "model.add(SimpleRNN(units = 50, return_sequences = True, activation = 'tanh'))\n",
    "model.add(Dropout(0.2))\n",
    "model.add(SimpleRNN(units = 50, return_sequences = True, activation = 'tanh'))\n",
    "model.add(Dropout(0.2))\n",
    "model.add(SimpleRNN(units = 50))\n",
    "model.add(Dropout(0.2))\n",
    "model.add(Dense(units = 1))\n",
    "\n",
    "model.summary()"
   ]
  },
  {
   "cell_type": "code",
   "execution_count": 22,
   "id": "82415ac1",
   "metadata": {},
   "outputs": [
    {
     "name": "stdout",
     "output_type": "stream",
     "text": [
      "Epoch 1/100\n",
      "91/91 [==============================] - 11s 76ms/step - loss: 0.2726 - val_loss: 0.0276\n",
      "Epoch 2/100\n",
      "91/91 [==============================] - 7s 72ms/step - loss: 0.1096 - val_loss: 0.0237\n",
      "Epoch 3/100\n",
      "91/91 [==============================] - 6s 69ms/step - loss: 0.0478 - val_loss: 0.0083\n",
      "Epoch 4/100\n",
      "91/91 [==============================] - 6s 70ms/step - loss: 0.0313 - val_loss: 0.0258\n",
      "Epoch 5/100\n",
      "91/91 [==============================] - 6s 70ms/step - loss: 0.0203 - val_loss: 0.0153\n",
      "Epoch 6/100\n",
      "91/91 [==============================] - 6s 69ms/step - loss: 0.0158 - val_loss: 0.0219\n",
      "Epoch 7/100\n",
      "91/91 [==============================] - 6s 71ms/step - loss: 0.0105 - val_loss: 0.0057\n",
      "Epoch 8/100\n",
      "91/91 [==============================] - 6s 68ms/step - loss: 0.0090 - val_loss: 0.0062\n",
      "Epoch 9/100\n",
      "91/91 [==============================] - 6s 70ms/step - loss: 0.0068 - val_loss: 0.0010\n",
      "Epoch 10/100\n",
      "91/91 [==============================] - 6s 70ms/step - loss: 0.0060 - val_loss: 0.0023\n",
      "Epoch 11/100\n",
      "91/91 [==============================] - 6s 70ms/step - loss: 0.0053 - val_loss: 0.0032\n",
      "Epoch 12/100\n",
      "91/91 [==============================] - 6s 69ms/step - loss: 0.0045 - val_loss: 0.0072\n",
      "Epoch 13/100\n",
      "91/91 [==============================] - 6s 68ms/step - loss: 0.0040 - val_loss: 0.0042\n",
      "Epoch 14/100\n",
      "91/91 [==============================] - 6s 69ms/step - loss: 0.0040 - val_loss: 0.0031\n",
      "Epoch 15/100\n",
      "91/91 [==============================] - 6s 68ms/step - loss: 0.0036 - val_loss: 0.0026\n",
      "Epoch 16/100\n",
      "91/91 [==============================] - 6s 70ms/step - loss: 0.0033 - val_loss: 0.0015\n",
      "Epoch 17/100\n",
      "91/91 [==============================] - 6s 69ms/step - loss: 0.0029 - val_loss: 9.8002e-04\n",
      "Epoch 18/100\n",
      "91/91 [==============================] - 6s 70ms/step - loss: 0.0029 - val_loss: 0.0013\n",
      "Epoch 19/100\n",
      "91/91 [==============================] - 6s 70ms/step - loss: 0.0025 - val_loss: 0.0029\n",
      "Epoch 20/100\n",
      "91/91 [==============================] - 6s 70ms/step - loss: 0.0024 - val_loss: 0.0018\n",
      "Epoch 21/100\n",
      "91/91 [==============================] - 6s 70ms/step - loss: 0.0022 - val_loss: 8.6323e-04\n",
      "Epoch 22/100\n",
      "91/91 [==============================] - 6s 68ms/step - loss: 0.0019 - val_loss: 0.0017\n",
      "Epoch 23/100\n",
      "91/91 [==============================] - 6s 70ms/step - loss: 0.0018 - val_loss: 0.0020\n",
      "Epoch 24/100\n",
      "91/91 [==============================] - 6s 69ms/step - loss: 0.0017 - val_loss: 0.0021\n",
      "Epoch 25/100\n",
      "91/91 [==============================] - 6s 69ms/step - loss: 0.0016 - val_loss: 8.1693e-04\n",
      "Epoch 26/100\n",
      "91/91 [==============================] - 6s 67ms/step - loss: 0.0015 - val_loss: 8.0404e-04\n",
      "Epoch 27/100\n",
      "91/91 [==============================] - 6s 70ms/step - loss: 0.0016 - val_loss: 0.0015\n",
      "Epoch 28/100\n",
      "91/91 [==============================] - 6s 68ms/step - loss: 0.0015 - val_loss: 7.8905e-04\n",
      "Epoch 29/100\n",
      "91/91 [==============================] - 6s 66ms/step - loss: 0.0015 - val_loss: 0.0039\n",
      "Epoch 30/100\n",
      "91/91 [==============================] - 6s 69ms/step - loss: 0.0013 - val_loss: 0.0018\n",
      "Epoch 31/100\n",
      "91/91 [==============================] - 6s 68ms/step - loss: 0.0014 - val_loss: 0.0025\n",
      "Epoch 32/100\n",
      "91/91 [==============================] - 7s 74ms/step - loss: 0.0012 - val_loss: 0.0026\n",
      "Epoch 33/100\n",
      "91/91 [==============================] - 6s 71ms/step - loss: 0.0012 - val_loss: 0.0011\n",
      "Epoch 34/100\n",
      "91/91 [==============================] - 6s 70ms/step - loss: 0.0011 - val_loss: 0.0020\n",
      "Epoch 35/100\n",
      "91/91 [==============================] - 6s 68ms/step - loss: 0.0012 - val_loss: 0.0045\n",
      "Epoch 36/100\n",
      "91/91 [==============================] - 6s 69ms/step - loss: 0.0012 - val_loss: 0.0019\n",
      "Epoch 37/100\n",
      "91/91 [==============================] - 6s 64ms/step - loss: 0.0011 - val_loss: 8.0084e-04\n",
      "Epoch 38/100\n",
      "91/91 [==============================] - 4s 40ms/step - loss: 9.6748e-04 - val_loss: 0.0015\n",
      "Epoch 39/100\n",
      "91/91 [==============================] - 9s 105ms/step - loss: 0.0011 - val_loss: 0.0072\n",
      "Epoch 40/100\n",
      "91/91 [==============================] - 8s 87ms/step - loss: 0.0011 - val_loss: 9.4611e-04\n",
      "Epoch 41/100\n",
      "91/91 [==============================] - 6s 70ms/step - loss: 0.0010 - val_loss: 0.0025\n",
      "Epoch 42/100\n",
      "91/91 [==============================] - 3s 34ms/step - loss: 9.0154e-04 - val_loss: 0.0028\n",
      "Epoch 43/100\n",
      "91/91 [==============================] - 3s 34ms/step - loss: 9.1616e-04 - val_loss: 0.0012\n",
      "Epoch 44/100\n",
      "91/91 [==============================] - 3s 33ms/step - loss: 0.0012 - val_loss: 0.0010\n",
      "Epoch 45/100\n",
      "91/91 [==============================] - 3s 35ms/step - loss: 8.8451e-04 - val_loss: 7.5148e-04\n",
      "Epoch 46/100\n",
      "91/91 [==============================] - 7s 78ms/step - loss: 8.2472e-04 - val_loss: 0.0012\n",
      "Epoch 47/100\n",
      "91/91 [==============================] - 9s 99ms/step - loss: 8.8396e-04 - val_loss: 0.0029\n",
      "Epoch 48/100\n",
      "91/91 [==============================] - 7s 79ms/step - loss: 8.0900e-04 - val_loss: 0.0020\n",
      "Epoch 49/100\n",
      "91/91 [==============================] - 5s 56ms/step - loss: 7.8852e-04 - val_loss: 8.4120e-04\n",
      "Epoch 50/100\n",
      "91/91 [==============================] - 11s 115ms/step - loss: 8.6367e-04 - val_loss: 7.9924e-04\n",
      "Epoch 51/100\n",
      "91/91 [==============================] - 7s 82ms/step - loss: 9.9036e-04 - val_loss: 0.0017\n",
      "Epoch 52/100\n",
      "91/91 [==============================] - 5s 51ms/step - loss: 7.5154e-04 - val_loss: 8.2759e-04\n",
      "Epoch 53/100\n",
      "91/91 [==============================] - 3s 33ms/step - loss: 8.0689e-04 - val_loss: 9.2022e-04\n",
      "Epoch 54/100\n",
      "91/91 [==============================] - 3s 35ms/step - loss: 7.5758e-04 - val_loss: 0.0045\n",
      "Epoch 55/100\n",
      "91/91 [==============================] - 3s 35ms/step - loss: 8.8948e-04 - val_loss: 7.4451e-04\n",
      "Epoch 56/100\n",
      "91/91 [==============================] - 10s 112ms/step - loss: 7.4858e-04 - val_loss: 0.0018\n",
      "Epoch 57/100\n",
      "91/91 [==============================] - 7s 80ms/step - loss: 7.5650e-04 - val_loss: 9.3065e-04\n",
      "Epoch 58/100\n",
      "91/91 [==============================] - 6s 65ms/step - loss: 6.5787e-04 - val_loss: 0.0027\n",
      "Epoch 59/100\n",
      "91/91 [==============================] - 3s 35ms/step - loss: 6.8248e-04 - val_loss: 0.0011\n",
      "Epoch 60/100\n",
      "91/91 [==============================] - 3s 38ms/step - loss: 7.5223e-04 - val_loss: 0.0054\n",
      "Epoch 61/100\n",
      "91/91 [==============================] - 3s 35ms/step - loss: 7.7161e-04 - val_loss: 0.0011\n",
      "Epoch 62/100\n",
      "91/91 [==============================] - 3s 36ms/step - loss: 6.6449e-04 - val_loss: 0.0030\n",
      "Epoch 63/100\n",
      "91/91 [==============================] - 4s 41ms/step - loss: 7.9485e-04 - val_loss: 7.6321e-04\n",
      "Epoch 64/100\n",
      "91/91 [==============================] - 4s 43ms/step - loss: 6.7450e-04 - val_loss: 9.5751e-04\n",
      "Epoch 65/100\n",
      "91/91 [==============================] - 4s 40ms/step - loss: 6.4261e-04 - val_loss: 0.0092\n",
      "Epoch 66/100\n",
      "91/91 [==============================] - 4s 42ms/step - loss: 7.1868e-04 - val_loss: 0.0014\n",
      "Epoch 67/100\n",
      "91/91 [==============================] - 4s 40ms/step - loss: 6.2736e-04 - val_loss: 9.2781e-04\n",
      "Epoch 68/100\n",
      "91/91 [==============================] - 4s 40ms/step - loss: 6.7335e-04 - val_loss: 0.0085\n",
      "Epoch 69/100\n",
      "91/91 [==============================] - 4s 49ms/step - loss: 6.9855e-04 - val_loss: 9.8828e-04\n",
      "Epoch 70/100\n",
      "91/91 [==============================] - 4s 47ms/step - loss: 6.8522e-04 - val_loss: 0.0020\n",
      "Epoch 71/100\n",
      "91/91 [==============================] - 4s 41ms/step - loss: 6.3481e-04 - val_loss: 0.0015\n",
      "Epoch 72/100\n",
      "91/91 [==============================] - 4s 42ms/step - loss: 6.1881e-04 - val_loss: 9.9114e-04\n",
      "Epoch 73/100\n",
      "91/91 [==============================] - 4s 42ms/step - loss: 7.5218e-04 - val_loss: 0.0012\n",
      "Epoch 74/100\n",
      "91/91 [==============================] - 4s 41ms/step - loss: 5.6581e-04 - val_loss: 0.0043\n",
      "Epoch 75/100\n",
      "91/91 [==============================] - 4s 41ms/step - loss: 6.9622e-04 - val_loss: 0.0020\n",
      "Epoch 76/100\n",
      "91/91 [==============================] - 4s 44ms/step - loss: 7.5480e-04 - val_loss: 0.0013\n",
      "Epoch 77/100\n",
      "91/91 [==============================] - 5s 50ms/step - loss: 5.7624e-04 - val_loss: 9.8534e-04\n",
      "Epoch 78/100\n",
      "91/91 [==============================] - 4s 43ms/step - loss: 5.6602e-04 - val_loss: 0.0039\n",
      "Epoch 79/100\n",
      "91/91 [==============================] - 4s 46ms/step - loss: 7.7351e-04 - val_loss: 0.0022\n",
      "Epoch 80/100\n",
      "91/91 [==============================] - 4s 39ms/step - loss: 6.4963e-04 - val_loss: 0.0044\n",
      "Epoch 81/100\n",
      "91/91 [==============================] - 4s 39ms/step - loss: 6.1918e-04 - val_loss: 0.0014\n",
      "Epoch 82/100\n",
      "91/91 [==============================] - 4s 42ms/step - loss: 6.5750e-04 - val_loss: 0.0017\n",
      "Epoch 83/100\n",
      "91/91 [==============================] - 4s 42ms/step - loss: 6.7043e-04 - val_loss: 0.0018\n",
      "Epoch 84/100\n",
      "91/91 [==============================] - 7s 73ms/step - loss: 5.2407e-04 - val_loss: 0.0032\n",
      "Epoch 85/100\n",
      "91/91 [==============================] - 8s 84ms/step - loss: 5.8440e-04 - val_loss: 0.0011\n",
      "Epoch 86/100\n",
      "91/91 [==============================] - 7s 75ms/step - loss: 5.5560e-04 - val_loss: 8.7890e-04\n",
      "Epoch 87/100\n",
      "91/91 [==============================] - 5s 60ms/step - loss: 6.3652e-04 - val_loss: 7.2862e-04\n",
      "Epoch 88/100\n",
      "91/91 [==============================] - 7s 76ms/step - loss: 4.9370e-04 - val_loss: 8.6929e-04\n",
      "Epoch 89/100\n",
      "91/91 [==============================] - 8s 86ms/step - loss: 6.8088e-04 - val_loss: 0.0031\n",
      "Epoch 90/100\n",
      "91/91 [==============================] - 7s 74ms/step - loss: 6.0800e-04 - val_loss: 0.0010\n",
      "Epoch 91/100\n",
      "91/91 [==============================] - 5s 52ms/step - loss: 4.9829e-04 - val_loss: 0.0011\n",
      "Epoch 92/100\n",
      "91/91 [==============================] - 3s 34ms/step - loss: 6.1120e-04 - val_loss: 0.0011\n",
      "Epoch 93/100\n",
      "91/91 [==============================] - 3s 34ms/step - loss: 5.7131e-04 - val_loss: 8.4655e-04\n",
      "Epoch 94/100\n",
      "91/91 [==============================] - 3s 33ms/step - loss: 6.5355e-04 - val_loss: 0.0027\n",
      "Epoch 95/100\n",
      "91/91 [==============================] - 3s 34ms/step - loss: 6.1462e-04 - val_loss: 0.0012\n",
      "Epoch 96/100\n",
      "91/91 [==============================] - 3s 37ms/step - loss: 5.6658e-04 - val_loss: 9.1691e-04\n",
      "Epoch 97/100\n",
      "91/91 [==============================] - 4s 41ms/step - loss: 6.3076e-04 - val_loss: 0.0027\n",
      "Epoch 98/100\n",
      "91/91 [==============================] - 4s 40ms/step - loss: 5.7106e-04 - val_loss: 0.0020\n",
      "Epoch 99/100\n",
      "91/91 [==============================] - 4s 43ms/step - loss: 5.6090e-04 - val_loss: 0.0027\n",
      "Epoch 100/100\n",
      "91/91 [==============================] - 4s 42ms/step - loss: 5.7335e-04 - val_loss: 0.0216\n"
     ]
    },
    {
     "data": {
      "text/plain": [
       "<keras.callbacks.History at 0x17916518340>"
      ]
     },
     "execution_count": 22,
     "metadata": {},
     "output_type": "execute_result"
    }
   ],
   "source": [
    "model.compile(optimizer = 'adam', loss = 'mse')\n",
    "model.fit(x_train, y_train, epochs = 100, batch_size = 32, validation_split = 0.1)"
   ]
  },
  {
   "cell_type": "code",
   "execution_count": 23,
   "id": "26c03e1b",
   "metadata": {},
   "outputs": [],
   "source": [
    "data = pd.concat((df_train['Open'], df_test['Open']), axis = 0)"
   ]
  },
  {
   "cell_type": "code",
   "execution_count": 24,
   "id": "67926368",
   "metadata": {},
   "outputs": [
    {
     "data": {
      "text/plain": [
       "(203,)"
      ]
     },
     "execution_count": 24,
     "metadata": {},
     "output_type": "execute_result"
    }
   ],
   "source": [
    "test_input = data.iloc[len(data) - len(df_test) - time:].values\n",
    "test_input.shape"
   ]
  },
  {
   "cell_type": "code",
   "execution_count": 31,
   "id": "717fff7c",
   "metadata": {},
   "outputs": [
    {
     "data": {
      "text/plain": [
       "(203, 1)"
      ]
     },
     "execution_count": 31,
     "metadata": {},
     "output_type": "execute_result"
    }
   ],
   "source": [
    "test_input = test_input.reshape(-1,1)\n",
    "test_input.shape"
   ]
  },
  {
   "cell_type": "code",
   "execution_count": 32,
   "id": "3d47a266",
   "metadata": {},
   "outputs": [],
   "source": [
    "test_scaled = mms.fit_transform(test_input)"
   ]
  },
  {
   "cell_type": "code",
   "execution_count": 34,
   "id": "64592e56",
   "metadata": {},
   "outputs": [
    {
     "data": {
      "text/plain": [
       "(143, 60)"
      ]
     },
     "execution_count": 34,
     "metadata": {},
     "output_type": "execute_result"
    }
   ],
   "source": [
    "x_test = []\n",
    "for i in range(time, test_scaled.shape[0]):\n",
    "    x_test.append(test_scaled[i - time: i, 0])\n",
    "x_test = np.array(x_test)\n",
    "x_test.shape"
   ]
  },
  {
   "cell_type": "code",
   "execution_count": 35,
   "id": "3f785933",
   "metadata": {},
   "outputs": [
    {
     "data": {
      "text/plain": [
       "(143, 60, 1)"
      ]
     },
     "execution_count": 35,
     "metadata": {},
     "output_type": "execute_result"
    }
   ],
   "source": [
    "x_test = np.reshape(x_test, newshape = (x_test.shape[0], x_test.shape[1], 1))\n",
    "x_test.shape"
   ]
  },
  {
   "cell_type": "code",
   "execution_count": 47,
   "id": "a9b43766",
   "metadata": {},
   "outputs": [],
   "source": [
    "y_test = df_test.loc[:,['Open']].values"
   ]
  },
  {
   "cell_type": "code",
   "execution_count": 48,
   "id": "77ce28b8",
   "metadata": {},
   "outputs": [
    {
     "name": "stdout",
     "output_type": "stream",
     "text": [
      "5/5 [==============================] - 0s 27ms/step\n"
     ]
    }
   ],
   "source": [
    "y_pred = model.predict(x_test)"
   ]
  },
  {
   "cell_type": "code",
   "execution_count": 49,
   "id": "7b84c0d8",
   "metadata": {},
   "outputs": [],
   "source": [
    "y_pred = mms.inverse_transform(y_pred)"
   ]
  },
  {
   "cell_type": "code",
   "execution_count": 50,
   "id": "625979d4",
   "metadata": {},
   "outputs": [
    {
     "name": "stdout",
     "output_type": "stream",
     "text": [
      "5/5 [==============================] - 1s 29ms/step - loss: 11619.1016\n"
     ]
    }
   ],
   "source": [
    "output = model.evaluate(x= x_test, y= y_test)"
   ]
  },
  {
   "cell_type": "code",
   "execution_count": 51,
   "id": "f234a747",
   "metadata": {},
   "outputs": [
    {
     "data": {
      "image/png": "[encoded data removed]",
      "text/plain": [
       "<Figure size 640x480 with 1 Axes>"
      ]
     },
     "metadata": {},
     "output_type": "display_data"
    }
   ],
   "source": [
    "plt.plot(y_test, color = 'red', label = 'Actual Price')\n",
    "plt.plot(y_pred, color = 'blue', label = 'Predicted Price')\n",
    "plt.xlabel('time')\n",
    "plt.ylabel('price')\n",
    "plt.show()"
   ]
  },
  {
   "cell_type": "code",
   "execution_count": null,
   "id": "9839b513",
   "metadata": {},
   "outputs": [],
   "source": []
  }
 ],
 "metadata": {
  "kernelspec": {
   "display_name": "Python 3 (ipykernel)",
   "language": "python",
   "name": "python3"
  },
  "language_info": {
   "codemirror_mode": {
    "name": "ipython",
    "version": 3
   },
   "file_extension": ".py",
   "mimetype": "text/x-python",
   "name": "python",
   "nbconvert_exporter": "python",
   "pygments_lexer": "ipython3",
   "version": "3.9.13"
  }
 },
 "nbformat": 4,
 "nbformat_minor": 5
}
