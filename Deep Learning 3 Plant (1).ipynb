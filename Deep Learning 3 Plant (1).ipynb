{
 "cells": [
  {
   "cell_type": "code",
   "execution_count": 1,
   "id": "59ea9abb",
   "metadata": {},
   "outputs": [],
   "source": [
    "import tensorflow as tf\n",
    "import os\n",
    "import cv2\n",
    "import pickle\n",
    "from tqdm import tqdm\n",
    "import numpy as np\n",
    "from tensorflow.keras.models import Sequential\n",
    "from tensorflow.keras.layers import Conv2D, MaxPooling2D, Flatten, Dense, Dropout"
   ]
  },
  {
   "cell_type": "code",
   "execution_count": 2,
   "id": "0d610a6a",
   "metadata": {},
   "outputs": [],
   "source": [
    "def extract_images_from_folder(root_folder, target_size=(256, 256)):\n",
    "    image_data = []\n",
    "    labels = []\n",
    "    label_to_index = {}  # Dictionary to map label names to numerical indices\n",
    "    index = 0\n",
    "\n",
    "    for subdir, dirs, files in os.walk(root_folder):\n",
    "        for file in tqdm(files):\n",
    "            filepath = os.path.join(subdir, file)\n",
    "            img = cv2.imread(filepath)\n",
    "            img = cv2.resize(img, target_size)\n",
    "\n",
    "            label = os.path.basename(subdir)\n",
    "            if label not in label_to_index:\n",
    "                label_to_index[label] = index\n",
    "                index += 1\n",
    "\n",
    "            image_data.append(img)\n",
    "            labels.append(label_to_index[label])\n",
    "\n",
    "    image_data = np.array(image_data)\n",
    "    labels = np.array(labels)\n",
    "\n",
    "    return image_data, labels, label_to_index"
   ]
  },
  {
   "cell_type": "code",
   "execution_count": 4,
   "id": "4e306cfa",
   "metadata": {},
   "outputs": [
    {
     "name": "stderr",
     "output_type": "stream",
     "text": [
      "0it [00:00, ?it/s]\n",
      "0it [00:00, ?it/s]\n",
      "100%|████████████████████████████████████████████████████████████████████████████████| 458/458 [01:10<00:00,  6.49it/s]\n",
      "100%|████████████████████████████████████████████████████████████████████████████████| 430/430 [00:59<00:00,  7.27it/s]\n",
      "100%|████████████████████████████████████████████████████████████████████████████████| 434/434 [01:10<00:00,  6.19it/s]\n"
     ]
    }
   ],
   "source": [
    "root_folder = r\"C:\\Users\\vinit\\Downloads\\plantdisease\\Train\"\n",
    "x_train,y_train,label_reverse_train = extract_images_from_folder(root_folder)"
   ]
  },
  {
   "cell_type": "code",
   "execution_count": 5,
   "id": "8b997ab5",
   "metadata": {},
   "outputs": [
    {
     "name": "stderr",
     "output_type": "stream",
     "text": [
      "0it [00:00, ?it/s]\n",
      "0it [00:00, ?it/s]\n",
      "100%|██████████████████████████████████████████████████████████████████████████████████| 20/20 [00:03<00:00,  6.47it/s]\n",
      "100%|██████████████████████████████████████████████████████████████████████████████████| 20/20 [00:03<00:00,  6.63it/s]\n",
      "100%|██████████████████████████████████████████████████████████████████████████████████| 20/20 [00:03<00:00,  5.75it/s]\n"
     ]
    }
   ],
   "source": [
    "root_folder = r\"C:\\Users\\vinit\\Downloads\\plantdisease\\Validation\"\n",
    "x_val,y_val,label_reverse_val = extract_images_from_folder(root_folder)"
   ]
  },
  {
   "cell_type": "code",
   "execution_count": 6,
   "id": "8377dc40",
   "metadata": {},
   "outputs": [
    {
     "name": "stderr",
     "output_type": "stream",
     "text": [
      "0it [00:00, ?it/s]\n",
      "0it [00:00, ?it/s]\n",
      "100%|██████████████████████████████████████████████████████████████████████████████████| 50/50 [00:08<00:00,  6.07it/s]\n",
      "100%|██████████████████████████████████████████████████████████████████████████████████| 50/50 [00:07<00:00,  6.70it/s]\n",
      "100%|██████████████████████████████████████████████████████████████████████████████████| 50/50 [00:09<00:00,  5.49it/s]\n"
     ]
    }
   ],
   "source": [
    "root_folder = r\"C:\\Users\\vinit\\Downloads\\plantdisease\\Test\"\n",
    "x_test,y_test,label_reverse_test = extract_images_from_folder(root_folder)"
   ]
  },
  {
   "cell_type": "code",
   "execution_count": 7,
   "id": "a733ce18",
   "metadata": {},
   "outputs": [],
   "source": [
    "x_train = x_train / 255.0\n",
    "x_test = x_test / 255.0\n",
    "x_val = x_val / 255.0"
   ]
  },
  {
   "cell_type": "code",
   "execution_count": 8,
   "id": "8328b9db",
   "metadata": {},
   "outputs": [],
   "source": [
    "model = Sequential([\n",
    "    Conv2D(32, (3, 3), activation='relu', input_shape=(256, 256, 3)),\n",
    "    MaxPooling2D((2, 2)),\n",
    "    Conv2D(64, (3, 3), activation='relu'),\n",
    "    MaxPooling2D((2, 2)),\n",
    "    Conv2D(128, (3, 3), activation='relu'),\n",
    "    MaxPooling2D((2, 2)),\n",
    "    Flatten(),\n",
    "    Dense(128, activation='relu'),\n",
    "    Dropout(0.5),\n",
    "    Dense(len(label_reverse_train), activation='softmax')\n",
    "])"
   ]
  },
  {
   "cell_type": "code",
   "execution_count": 9,
   "id": "1edbec36",
   "metadata": {},
   "outputs": [],
   "source": [
    "model.compile(optimizer='adam',\n",
    "              loss='sparse_categorical_crossentropy',\n",
    "              metrics=['accuracy'])"
   ]
  },
  {
   "cell_type": "code",
   "execution_count": 10,
   "id": "90b602e0",
   "metadata": {},
   "outputs": [
    {
     "name": "stdout",
     "output_type": "stream",
     "text": [
      "Epoch 1/10\n",
      "42/42 [==============================] - 109s 2s/step - loss: 0.9845 - accuracy: 0.5703 - val_loss: 0.7409 - val_accuracy: 0.7167\n",
      "Epoch 2/10\n",
      "42/42 [==============================] - 85s 2s/step - loss: 0.4443 - accuracy: 0.8411 - val_loss: 0.4228 - val_accuracy: 0.8500\n",
      "Epoch 3/10\n",
      "42/42 [==============================] - 86s 2s/step - loss: 0.3293 - accuracy: 0.8888 - val_loss: 0.4586 - val_accuracy: 0.8167\n",
      "Epoch 4/10\n",
      "42/42 [==============================] - 84s 2s/step - loss: 0.2090 - accuracy: 0.9402 - val_loss: 0.2748 - val_accuracy: 0.9000\n",
      "Epoch 5/10\n",
      "42/42 [==============================] - 82s 2s/step - loss: 0.1855 - accuracy: 0.9402 - val_loss: 0.3557 - val_accuracy: 0.8500\n",
      "Epoch 6/10\n",
      "42/42 [==============================] - 82s 2s/step - loss: 0.1490 - accuracy: 0.9523 - val_loss: 0.3284 - val_accuracy: 0.8833\n",
      "Epoch 7/10\n",
      "42/42 [==============================] - 82s 2s/step - loss: 0.2571 - accuracy: 0.9115 - val_loss: 0.4165 - val_accuracy: 0.8333\n",
      "Epoch 8/10\n",
      "42/42 [==============================] - 81s 2s/step - loss: 0.1730 - accuracy: 0.9516 - val_loss: 0.2700 - val_accuracy: 0.9167\n",
      "Epoch 9/10\n",
      "42/42 [==============================] - 80s 2s/step - loss: 0.2008 - accuracy: 0.9349 - val_loss: 0.3260 - val_accuracy: 0.8667\n",
      "Epoch 10/10\n",
      "42/42 [==============================] - 80s 2s/step - loss: 0.1289 - accuracy: 0.9531 - val_loss: 0.4571 - val_accuracy: 0.8833\n"
     ]
    }
   ],
   "source": [
    "history = model.fit(x_train, y_train, epochs=10, batch_size=32, validation_data=(x_val, y_val))"
   ]
  },
  {
   "cell_type": "code",
   "execution_count": 11,
   "id": "942c5478",
   "metadata": {},
   "outputs": [
    {
     "name": "stdout",
     "output_type": "stream",
     "text": [
      "5/5 [==============================] - 3s 533ms/step - loss: 0.5173 - accuracy: 0.8600\n",
      "Test accuracy: 0.8600000143051147\n"
     ]
    }
   ],
   "source": [
    "test_loss, test_acc = model.evaluate(x_test, y_test)\n",
    "print('Test accuracy:', test_acc)"
   ]
  },
  {
   "cell_type": "code",
   "execution_count": null,
   "id": "fd81876a",
   "metadata": {},
   "outputs": [],
   "source": [
    "#https://www.kaggle.com/datasets/rashikrahmanpritom/plant-disease-recognition-dataset"
   ]
  },
  {
   "cell_type": "code",
   "execution_count": 13,
   "id": "efc7b2c2",
   "metadata": {},
   "outputs": [
    {
     "name": "stdout",
     "output_type": "stream",
     "text": [
      "5/5 [==============================] - 3s 486ms/step\n"
     ]
    }
   ],
   "source": [
    "y_pred = model.predict(x_test)"
   ]
  },
  {
   "cell_type": "code",
   "execution_count": 22,
   "id": "9461e3da",
   "metadata": {},
   "outputs": [
    {
     "data": {
      "text/plain": [
       "array([4.2224565e-05, 9.9992311e-01, 3.4668479e-05], dtype=float32)"
      ]
     },
     "execution_count": 22,
     "metadata": {},
     "output_type": "execute_result"
    }
   ],
   "source": [
    "y_pred[60]"
   ]
  },
  {
   "cell_type": "code",
   "execution_count": 23,
   "id": "b8b1418d",
   "metadata": {},
   "outputs": [
    {
     "data": {
      "text/plain": [
       "1"
      ]
     },
     "execution_count": 23,
     "metadata": {},
     "output_type": "execute_result"
    }
   ],
   "source": [
    "y_test[60]"
   ]
  },
  {
   "cell_type": "code",
   "execution_count": null,
   "id": "ae1429ff",
   "metadata": {},
   "outputs": [],
   "source": []
  }
 ],
 "metadata": {
  "kernelspec": {
   "display_name": "Python 3 (ipykernel)",
   "language": "python",
   "name": "python3"
  },
  "language_info": {
   "codemirror_mode": {
    "name": "ipython",
    "version": 3
   },
   "file_extension": ".py",
   "mimetype": "text/x-python",
   "name": "python",
   "nbconvert_exporter": "python",
   "pygments_lexer": "ipython3",
   "version": "3.9.13"
  }
 },
 "nbformat": 4,
 "nbformat_minor": 5
}
